{
 "cells": [
  {
   "attachments": {},
   "cell_type": "markdown",
   "metadata": {},
   "source": [
    "# Groups"
   ]
  },
  {
   "attachments": {},
   "cell_type": "markdown",
   "metadata": {},
   "source": [
    "## Overview\n",
    "> Manage groups of decentralized objects/assets"
   ]
  },
  {
   "attachments": {},
   "cell_type": "markdown",
   "metadata": {},
   "source": [
    "## Features\n",
    "- [x] Create groups anchored on the blockchain to a digital asset\n",
    "- [x] Verify the group on the blockchain\n",
    "- [x] Add members to groups using Verified Credentials\n",
    "- [x] Manage groups using Decentralized Identities\n",
    "- [x] Add data schemas to groups to define the data structure of the group\n",
    "- [x] Add data to groups using the data schemas\n",
    "- [x] Verify the data on the blockchain\n",
    "- [x] Public schemas allow for groups members to add data to the group (ratings, comments, etc.)"
   ]
  },
  {
   "cell_type": "code",
   "execution_count": null,
   "metadata": {},
   "outputs": [],
   "source": [
    "## Classes"
   ]
  },
  {
   "cell_type": "code",
   "execution_count": null,
   "metadata": {},
   "outputs": [],
   "source": [
    "### Value"
   ]
  },
  {
   "cell_type": "code",
   "execution_count": 10,
   "metadata": {},
   "outputs": [
    {
     "name": "stdout",
     "output_type": "stream",
     "text": [
      "test | Expected: test\n",
      "False | Expected: False\n",
      "False | Expected: False\n",
      " | Expected: \n",
      "True | Expected: True\n",
      "False | Expected: False\n",
      "None | Expected: None\n",
      "False | Expected: False\n",
      "True | Expected: True\n"
     ]
    }
   ],
   "source": [
    "from abc import ABC, abstractmethod\n",
    "from typing import Any, Dict, List, Optional\n",
    "\n",
    "\n",
    "class ValueInterface(ABC):\n",
    "    \"\"\"\n",
    "    The interface for the Value class.\n",
    "    \"\"\"\n",
    "    @property\n",
    "    @abstractmethod\n",
    "    def value(self) -> Any:\n",
    "        pass\n",
    "\n",
    "    @abstractmethod\n",
    "    def check_empty(self) -> bool:\n",
    "        pass\n",
    "\n",
    "    @abstractmethod\n",
    "    def check_none(self) -> bool:\n",
    "        pass\n",
    "\n",
    "\n",
    "class Value(ValueInterface):\n",
    "    \"\"\"\n",
    "    \n",
    "    \"\"\"\n",
    "    def __init__(\n",
    "        self,\n",
    "        value: Any,\n",
    "    ) -> None:\n",
    "        \"\"\"\n",
    "        Initializes the Value class.\n",
    "        \"\"\"\n",
    "        self._value = value\n",
    "\n",
    "    @property\n",
    "    def value(self) -> Any:\n",
    "        \"\"\"\n",
    "        Returns the value.\n",
    "        \"\"\"\n",
    "        return self._value\n",
    "\n",
    "    def check_empty(self) -> bool:\n",
    "        \"\"\"\n",
    "        Checks if the value is empty.\n",
    "        \"\"\"\n",
    "        if self._value == \"\":\n",
    "            return True\n",
    "        else:\n",
    "            return False\n",
    "\n",
    "    def check_none(self) -> bool:\n",
    "        \"\"\"\n",
    "        Checks if the value is None.\n",
    "        \"\"\"\n",
    "        if self._value is None:\n",
    "            return True\n",
    "        else:\n",
    "            return False\n",
    "        \n",
    "# Tests for the Value Class\n",
    "def test_value() -> None:\n",
    "    \"\"\"\n",
    "    Tests the Value class.\n",
    "    \"\"\"\n",
    "    value = Value(\"test\")\n",
    "    assert value.value == \"test\"\n",
    "    assert value.check_empty() == False\n",
    "    assert value.check_none() == False\n",
    "\n",
    "    value = Value(\"\")\n",
    "    assert value.value == \"\"\n",
    "    assert value.check_empty() == True\n",
    "    assert value.check_none() == False\n",
    "\n",
    "    value = Value(None)\n",
    "    assert value.value == None\n",
    "    assert value.check_empty() == False\n",
    "    assert value.check_none() == True\n",
    "\n",
    "try:\n",
    "    test_value()\n",
    "except Exception as e:\n",
    "    print(e)\n",
    "\n",
    "# Examples for the Value Class\n",
    "def example_value() -> None:\n",
    "    \"\"\"\n",
    "    Examples for the Value class.\n",
    "    \"\"\"\n",
    "    value = Value(\"test\")\n",
    "    print(value.value + \" | Expected: test\")\n",
    "    print(str(value.check_empty()) + \" | Expected: False\")\n",
    "    print(str(value.check_none()) + \" | Expected: False\")\n",
    "\n",
    "    value = Value(\"\")\n",
    "    print(value.value + \" | Expected: \")\n",
    "    print(str(value.check_empty()) + \" | Expected: True\")\n",
    "    print(str(value.check_none()) + \" | Expected: False\")\n",
    "\n",
    "    value = Value(None)\n",
    "    print(str(value.value) + \" | Expected: None\")\n",
    "    print(str(value.check_empty()) + \" | Expected: False\")\n",
    "    print(str(value.check_none()) + \" | Expected: True\")\n",
    "\n",
    "try:\n",
    "    example_value()\n",
    "except Exception as e:\n",
    "    print(e)"
   ]
  }
 ],
 "metadata": {
  "kernelspec": {
   "display_name": "venv",
   "language": "python",
   "name": "python3"
  },
  "language_info": {
   "codemirror_mode": {
    "name": "ipython",
    "version": 3
   },
   "file_extension": ".py",
   "mimetype": "text/x-python",
   "name": "python",
   "nbconvert_exporter": "python",
   "pygments_lexer": "ipython3",
   "version": "3.11.0rc2"
  },
  "orig_nbformat": 4
 },
 "nbformat": 4,
 "nbformat_minor": 2
}
