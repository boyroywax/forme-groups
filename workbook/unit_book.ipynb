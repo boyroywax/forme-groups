{
 "cells": [
  {
   "cell_type": "code",
   "execution_count": 2,
   "metadata": {},
   "outputs": [
    {
     "ename": "ModuleNotFoundError",
     "evalue": "No module named 'groups'",
     "output_type": "error",
     "traceback": [
      "\u001b[0;31m---------------------------------------------------------------------------\u001b[0m",
      "\u001b[0;31mModuleNotFoundError\u001b[0m                       Traceback (most recent call last)",
      "Cell \u001b[0;32mIn[2], line 1\u001b[0m\n\u001b[0;32m----> 1\u001b[0m \u001b[39mfrom\u001b[39;00m \u001b[39mgroups\u001b[39;00m\u001b[39m.\u001b[39;00m\u001b[39munits\u001b[39;00m \u001b[39mimport\u001b[39;00m UnitValue\n\u001b[1;32m      3\u001b[0m \u001b[39m# Create a new UnitValue object\u001b[39;00m\n\u001b[1;32m      4\u001b[0m unit_value \u001b[39m=\u001b[39m UnitValue(\n\u001b[1;32m      5\u001b[0m     value\u001b[39m=\u001b[39m\u001b[39m42\u001b[39m\n\u001b[1;32m      6\u001b[0m )\n",
      "\u001b[0;31mModuleNotFoundError\u001b[0m: No module named 'groups'"
     ]
    }
   ],
   "source": [
    "from groups.units import UnitValue\n",
    "\n",
    "# Create a new UnitValue object\n",
    "unit_value = UnitValue(\n",
    "    value=42\n",
    ")\n",
    "\n",
    "# Print the value of the UnitValue object\n",
    "print(unit_value.get_value())"
   ]
  }
 ],
 "metadata": {
  "kernelspec": {
   "display_name": "venv",
   "language": "python",
   "name": "python3"
  },
  "language_info": {
   "codemirror_mode": {
    "name": "ipython",
    "version": 3
   },
   "file_extension": ".py",
   "mimetype": "text/x-python",
   "name": "python",
   "nbconvert_exporter": "python",
   "pygments_lexer": "ipython3",
   "version": "3.11.0rc2"
  },
  "orig_nbformat": 4
 },
 "nbformat": 4,
 "nbformat_minor": 2
}
