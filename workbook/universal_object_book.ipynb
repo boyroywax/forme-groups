{
 "cells": [
  {
   "attachments": {},
   "cell_type": "markdown",
   "metadata": {},
   "source": [
    "# Create a Universal Object"
   ]
  },
  {
   "attachments": {},
   "cell_type": "markdown",
   "metadata": {},
   "source": [
    "## Start with building the Nonce\n",
    "1. Check out the different type of supported NonceTypes"
   ]
  },
  {
   "cell_type": "code",
   "execution_count": 1,
   "metadata": {},
   "outputs": [
    {
     "ename": "ModuleNotFoundError",
     "evalue": "No module named 'groups'",
     "output_type": "error",
     "traceback": [
      "\u001b[0;31m---------------------------------------------------------------------------\u001b[0m",
      "\u001b[0;31mModuleNotFoundError\u001b[0m                       Traceback (most recent call last)",
      "Cell \u001b[0;32mIn[1], line 1\u001b[0m\n\u001b[0;32m----> 1\u001b[0m \u001b[39mfrom\u001b[39;00m \u001b[39mgroups\u001b[39;00m\u001b[39m.\u001b[39;00m\u001b[39mmodules\u001b[39;00m\u001b[39m.\u001b[39;00m\u001b[39mnonce_types\u001b[39;00m \u001b[39mimport\u001b[39;00m NonceTypes\n\u001b[1;32m      3\u001b[0m nonce_types \u001b[39m=\u001b[39m NonceTypes()\n\u001b[1;32m      5\u001b[0m \u001b[39mprint\u001b[39m(nonce_types\u001b[39m.\u001b[39mget_nonce_types())\n",
      "\u001b[0;31mModuleNotFoundError\u001b[0m: No module named 'groups'"
     ]
    }
   ],
   "source": [
    "from groups.modules.nonce_types import NonceTypes\n",
    "\n",
    "nonce_types = NonceTypes()\n",
    "\n",
    "print(nonce_types.get_nonce_types())\n"
   ]
  },
  {
   "attachments": {},
   "cell_type": "markdown",
   "metadata": {},
   "source": [
    "2. Choose your nonce type and build the Nonce, choose the integer value for the NonceType"
   ]
  },
  {
   "cell_type": "code",
   "execution_count": 4,
   "metadata": {},
   "outputs": [
    {
     "name": "stdout",
     "output_type": "stream",
     "text": [
      "integer\n"
     ]
    }
   ],
   "source": [
    "\n",
    "from groups.modules.nonce_types import NonceTypes\n",
    "\n",
    "nonce_types = NonceTypes('integer')\n",
    "\n",
    "print(nonce_types.get_active_nonce_type())\n"
   ]
  },
  {
   "attachments": {},
   "cell_type": "markdown",
   "metadata": {},
   "source": [
    "3. Build the NonceUnit with the NonceType and an integer value"
   ]
  },
  {
   "cell_type": "code",
   "execution_count": 4,
   "metadata": {},
   "outputs": [
    {
     "name": "stdout",
     "output_type": "stream",
     "text": [
      "1\n",
      "integer\n"
     ]
    }
   ],
   "source": [
    "from groups.modules.nonce_types import NonceTypes\n",
    "from groups import *\n",
    "\n",
    "nonce_type = NonceTypes('integer')\n",
    "\n",
    "nonce_unit = NonceUnit(1, nonce_type.get_active_nonce_type())\n",
    "\n",
    "print(nonce_unit.get_nonce_unit_value())\n",
    "print(nonce_unit.get_nonce_unit_type())\n"
   ]
  },
  {
   "attachments": {},
   "cell_type": "markdown",
   "metadata": {},
   "source": [
    "4. Build the Nonce with the NonceUnit and the NonceType"
   ]
  },
  {
   "cell_type": "code",
   "execution_count": 1,
   "metadata": {},
   "outputs": [
    {
     "ename": "ImportError",
     "evalue": "cannot import name 'Nonce' from 'groups' (/Users/j/Documents/Forme/code/forme-groups/.venv/lib/python3.11/site-packages/groups-0.0.1-py3.11.egg/groups/__init__.py)",
     "output_type": "error",
     "traceback": [
      "\u001b[0;31m---------------------------------------------------------------------------\u001b[0m",
      "\u001b[0;31mImportError\u001b[0m                               Traceback (most recent call last)",
      "Cell \u001b[0;32mIn[1], line 3\u001b[0m\n\u001b[1;32m      1\u001b[0m \u001b[39mfrom\u001b[39;00m \u001b[39mgroups\u001b[39;00m\u001b[39m.\u001b[39;00m\u001b[39mmodules\u001b[39;00m\u001b[39m.\u001b[39;00m\u001b[39mnonce_types\u001b[39;00m \u001b[39mimport\u001b[39;00m NonceTypes\n\u001b[1;32m      2\u001b[0m \u001b[39mfrom\u001b[39;00m \u001b[39mgroups\u001b[39;00m\u001b[39m.\u001b[39;00m\u001b[39mmodules\u001b[39;00m\u001b[39m.\u001b[39;00m\u001b[39mnonce_unit\u001b[39;00m \u001b[39mimport\u001b[39;00m NonceUnit\n\u001b[0;32m----> 3\u001b[0m \u001b[39mfrom\u001b[39;00m \u001b[39mgroups\u001b[39;00m \u001b[39mimport\u001b[39;00m Nonce\n\u001b[1;32m      5\u001b[0m nonce_type \u001b[39m=\u001b[39m NonceTypes(\u001b[39m'\u001b[39m\u001b[39minteger\u001b[39m\u001b[39m'\u001b[39m)\n\u001b[1;32m      7\u001b[0m nonce_unit \u001b[39m=\u001b[39m NonceUnit(\u001b[39m1\u001b[39m, nonce_type\u001b[39m.\u001b[39mget_active_nonce_type())\n",
      "\u001b[0;31mImportError\u001b[0m: cannot import name 'Nonce' from 'groups' (/Users/j/Documents/Forme/code/forme-groups/.venv/lib/python3.11/site-packages/groups-0.0.1-py3.11.egg/groups/__init__.py)"
     ]
    }
   ],
   "source": [
    "from groups.modules.nonce_types import NonceTypes\n",
    "from groups.modules.nonce_unit import NonceUnit\n",
    "from groups.modules.nonce import Nonce\n",
    "\n",
    "nonce_type = NonceTypes('integer')\n",
    "\n",
    "nonce_unit = NonceUnit(1, nonce_type.get_active_nonce_type())\n",
    "\n",
    "nonce = Nonce([nonce_unit])\n",
    "\n",
    "print(nonce.get_nonce_units())\n"
   ]
  }
 ],
 "metadata": {
  "kernelspec": {
   "display_name": ".venv",
   "language": "python",
   "name": "python3"
  },
  "language_info": {
   "codemirror_mode": {
    "name": "ipython",
    "version": 3
   },
   "file_extension": ".py",
   "mimetype": "text/x-python",
   "name": "python",
   "nbconvert_exporter": "python",
   "pygments_lexer": "ipython3",
   "version": "3.11.0rc2"
  },
  "orig_nbformat": 4
 },
 "nbformat": 4,
 "nbformat_minor": 2
}
