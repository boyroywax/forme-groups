{
 "cells": [
  {
   "cell_type": "code",
   "execution_count": 2,
   "metadata": {},
   "outputs": [
    {
     "name": "stdout",
     "output_type": "stream",
     "text": [
      "UnitTypeRef(type_ref='new_type')\n",
      "UnitType(aliases=[UnitTypeRef(type_ref='new_type')], super_type=UnitTypeRef(type_ref='string'), prefix='new_type:', suffix=':new_type', separator='', function_call=<object object at 0x1084b6520>)\n",
      "UnitTypePool(pool={'integer': UnitType(aliases=(UnitTypeRef(type_ref='integer'), UnitTypeRef(type_ref='int')), super_type=UnitTypeRef(type_ref='__RESERVED_INT__'), prefix=None, suffix=None, separator=None, function_call=<class 'int'>), 'float': UnitType(aliases=(UnitTypeRef(type_ref='float'), UnitTypeRef(type_ref='double'), UnitTypeRef(type_ref='FLOAT'), UnitTypeRef(type_ref='DOUBLE')), super_type=UnitTypeRef(type_ref='__RESERVED_FLOAT__'), prefix=None, suffix=None, separator=None, function_call=<class 'float'>), 'string': UnitType(aliases=(UnitTypeRef(type_ref='string'), UnitTypeRef(type_ref='STRING')), super_type=UnitTypeRef(type_ref='__RESERVED_STRING__'), prefix=None, suffix=None, separator=None, function_call=<class 'str'>), 'boolean': UnitType(aliases=(UnitTypeRef(type_ref='boolean'), UnitTypeRef(type_ref='BOOLEAN')), super_type=UnitTypeRef(type_ref='__RESERVED_BOOLEAN__'), prefix=None, suffix=None, separator=None, function_call=<class 'bool'>), 'list': UnitType(aliases=(UnitTypeRef(type_ref='list'), UnitTypeRef(type_ref='LIST')), super_type=UnitTypeRef(type_ref='__RESERVED_LIST__'), prefix='[', suffix=']', separator=',', function_call=<class 'list'>), 'tuple': UnitType(aliases=(UnitTypeRef(type_ref='tuple'), UnitTypeRef(type_ref='TUPLE')), super_type=UnitTypeRef(type_ref='__RESERVED_TUPLE__'), prefix='(', suffix=')', separator=',', function_call=<class 'tuple'>), 'dict': UnitType(aliases=(UnitTypeRef(type_ref='dict'), UnitTypeRef(type_ref='DICT')), super_type=UnitTypeRef(type_ref='__RESERVED_DICT__'), prefix='{', suffix='}', separator=',', function_call=<class 'dict'>), 'bytes': UnitType(aliases=(UnitTypeRef(type_ref='bytes'), UnitTypeRef(type_ref='BYTES')), super_type=UnitTypeRef(type_ref='__RESERVED_BYTES__'), prefix=\"b'\", suffix=\"'\", separator=None, function_call=<class 'bytes'>), 'None': UnitType(aliases=(UnitTypeRef(type_ref='None'), UnitTypeRef(type_ref='NONE')), super_type=UnitTypeRef(type_ref='__RESERVED_NONE__'), prefix=None, suffix=None, separator=None, function_call=<class 'NoneType'>), 'new_type': UnitType(aliases=[UnitTypeRef(type_ref='new_type')], super_type=UnitTypeRef(type_ref='string'), prefix='new_type:', suffix=':new_type', separator='', function_call=<object object at 0x1084b6520>)})\n",
      "UnitValue(value='haha')\n",
      "Generator(unit_type_pool=UnitTypePool(pool={'integer': UnitType(aliases=(UnitTypeRef(type_ref='integer'), UnitTypeRef(type_ref='int')), super_type=UnitTypeRef(type_ref='__RESERVED_INT__'), prefix=None, suffix=None, separator=None, function_call=<class 'int'>), 'float': UnitType(aliases=(UnitTypeRef(type_ref='float'), UnitTypeRef(type_ref='double'), UnitTypeRef(type_ref='FLOAT'), UnitTypeRef(type_ref='DOUBLE')), super_type=UnitTypeRef(type_ref='__RESERVED_FLOAT__'), prefix=None, suffix=None, separator=None, function_call=<class 'float'>), 'string': UnitType(aliases=(UnitTypeRef(type_ref='string'), UnitTypeRef(type_ref='STRING')), super_type=UnitTypeRef(type_ref='__RESERVED_STRING__'), prefix=None, suffix=None, separator=None, function_call=<class 'str'>), 'boolean': UnitType(aliases=(UnitTypeRef(type_ref='boolean'), UnitTypeRef(type_ref='BOOLEAN')), super_type=UnitTypeRef(type_ref='__RESERVED_BOOLEAN__'), prefix=None, suffix=None, separator=None, function_call=<class 'bool'>), 'list': UnitType(aliases=(UnitTypeRef(type_ref='list'), UnitTypeRef(type_ref='LIST')), super_type=UnitTypeRef(type_ref='__RESERVED_LIST__'), prefix='[', suffix=']', separator=',', function_call=<class 'list'>), 'tuple': UnitType(aliases=(UnitTypeRef(type_ref='tuple'), UnitTypeRef(type_ref='TUPLE')), super_type=UnitTypeRef(type_ref='__RESERVED_TUPLE__'), prefix='(', suffix=')', separator=',', function_call=<class 'tuple'>), 'dict': UnitType(aliases=(UnitTypeRef(type_ref='dict'), UnitTypeRef(type_ref='DICT')), super_type=UnitTypeRef(type_ref='__RESERVED_DICT__'), prefix='{', suffix='}', separator=',', function_call=<class 'dict'>), 'bytes': UnitType(aliases=(UnitTypeRef(type_ref='bytes'), UnitTypeRef(type_ref='BYTES')), super_type=UnitTypeRef(type_ref='__RESERVED_BYTES__'), prefix=\"b'\", suffix=\"'\", separator=None, function_call=<class 'bytes'>), 'None': UnitType(aliases=(UnitTypeRef(type_ref='None'), UnitTypeRef(type_ref='NONE')), super_type=UnitTypeRef(type_ref='__RESERVED_NONE__'), prefix=None, suffix=None, separator=None, function_call=<class 'NoneType'>), 'new_type': UnitType(aliases=[UnitTypeRef(type_ref='new_type')], super_type=UnitTypeRef(type_ref='string'), prefix='new_type:', suffix=':new_type', separator='', function_call=<object object at 0x1084b6520>)}))\n",
      "Unit(value='unit', type_ref='new_type')\n",
      "UnitTypeRef\n",
      "UnitTypeRef UnitTypeRef(type_ref='new_type') (UnitTypeRef(type_ref='new_type'),) {}\n",
      "type_ref\n",
      "['__module__', '__annotations__', '__init__', '__setattr__', '__delattr__', 'freeze', '__repr__', '__weakref__', '__doc__', '__abstractmethods__', '_abc_impl', '__dataclass_params__', '__dataclass_fields__', '__eq__', '__hash__', '__match_args__', '__slots__', '_frozen', '__dict__', '__new__', '__str__', '__getattribute__', '__lt__', '__le__', '__ne__', '__gt__', '__ge__', '__reduce_ex__', '__reduce__', '__getstate__', '__subclasshook__', '__init_subclass__', '__format__', '__sizeof__', '__dir__', '__class__', 'type_ref']\n",
      "FrozenUnitTypeRef\n",
      "new_type\n",
      "None\n",
      "UnitType\n",
      "UnitType UnitType(aliases=[UnitTypeRef(type_ref='new_type')], super_type=UnitTypeRef(type_ref='string'), prefix='new_type:', suffix=':new_type', separator='', function_call=<object object at 0x1084b6520>) (UnitType(aliases=[UnitTypeRef(type_ref='new_type')], super_type=UnitTypeRef(type_ref='string'), prefix='new_type:', suffix=':new_type', separator='', function_call=<object object at 0x1084b6520>),) {}\n",
      "aliases\n",
      "function_call\n",
      "prefix\n",
      "separator\n",
      "suffix\n",
      "super_type\n",
      "['aliases', 'function_call', 'prefix', 'separator', 'suffix', 'super_type', '__module__', '__annotations__', '__init__', '__setattr__', '__delattr__', 'freeze', '__repr__', '__weakref__', '__doc__', '__abstractmethods__', '_abc_impl', '__dataclass_params__', '__dataclass_fields__', '__eq__', '__hash__', '__match_args__', '__slots__', '_frozen', '__dict__', '__new__', '__str__', '__getattribute__', '__lt__', '__le__', '__ne__', '__gt__', '__ge__', '__reduce_ex__', '__reduce__', '__getstate__', '__subclasshook__', '__init_subclass__', '__format__', '__sizeof__', '__dir__', '__class__', 'type_ref']\n",
      "FrozenUnitType\n"
     ]
    },
    {
     "ename": "AttributeError",
     "evalue": "'FrozenUnitType' object has no attribute 'type'",
     "output_type": "error",
     "traceback": [
      "\u001b[0;31m---------------------------------------------------------------------------\u001b[0m",
      "\u001b[0;31mAttributeError\u001b[0m                            Traceback (most recent call last)",
      "Cell \u001b[0;32mIn[2], line 56\u001b[0m\n\u001b[1;32m     54\u001b[0m frozen_unit_type\u001b[39m.\u001b[39mfreeze()\n\u001b[1;32m     55\u001b[0m \u001b[39mprint\u001b[39m(frozen_unit_type\u001b[39m.\u001b[39m\u001b[39m__class__\u001b[39m\u001b[39m.\u001b[39m\u001b[39m__name__\u001b[39m)\n\u001b[0;32m---> 56\u001b[0m \u001b[39mprint\u001b[39m(frozen_unit_type\u001b[39m.\u001b[39;49mtype)\n\u001b[1;32m     57\u001b[0m \u001b[39mprint\u001b[39m(frozen_unit_type\u001b[39m.\u001b[39m\u001b[39m__repr__\u001b[39m())\n",
      "\u001b[0;31mAttributeError\u001b[0m: 'FrozenUnitType' object has no attribute 'type'"
     ]
    }
   ],
   "source": [
    "import sys\n",
    "sys.path.append('/Users/j/Documents/Forme/code/forme-groups')\n",
    "\n",
    "from src.groups.all import Unit, UnitValue, UnitTypeRef, UnitType, UnitTypePool, Generator, Frozen\n",
    "\n",
    "# Create a UnitTypeRef\n",
    "# ---------------------\n",
    "unit_type_ref = UnitTypeRef(\"new_type\")\n",
    "print(unit_type_ref)\n",
    "\n",
    "# Create a UnitType\n",
    "# -----------------\n",
    "unit_type = UnitType(aliases=[unit_type_ref], super_type=UnitTypeRef(\"string\"), prefix=\"new_type:\", suffix=\":new_type\", separator=\"\")\n",
    "print(unit_type)\n",
    "\n",
    "# Create a UnitTypePool\n",
    "# ---------------------\n",
    "unit_type_pool = UnitTypePool()\n",
    "unit_type_pool.add_type(unit_type)\n",
    "print(unit_type_pool)\n",
    "\n",
    "# Create a UnitValue\n",
    "# ------------------\n",
    "unit_value = UnitValue(\"haha\")\n",
    "print(unit_value)\n",
    "\n",
    "# Create a Generator\n",
    "# ------------------\n",
    "generator = Generator(unit_type_pool)\n",
    "print(generator)\n",
    "\n",
    "# Create a Unit\n",
    "# -------------\n",
    "unit = generator.create_unit(\"new_type\", \"unit\")\n",
    "print(unit)\n",
    "\n",
    "# Create a frozen UnitTypeRef\n",
    "# ---------------------------\n",
    "print(unit_type_ref.__class__.__name__)\n",
    "frozen_unit_type_ref = Frozen(unit_type_ref)\n",
    "\n",
    "print(frozen_unit_type_ref.__dir__())\n",
    "frozen_unit_type_ref.freeze()\n",
    "print(frozen_unit_type_ref.__class__.__name__)\n",
    "print(frozen_unit_type_ref.type_ref)\n",
    "print(frozen_unit_type_ref.__repr__())\n",
    "\n",
    "# Create a frozen UnitType\n",
    "# ------------------------\n",
    "print(unit_type.__class__.__name__)\n",
    "frozen_unit_type = Frozen(unit_type)\n",
    "\n",
    "print(frozen_unit_type.__dir__())\n",
    "frozen_unit_type.freeze()\n",
    "print(frozen_unit_type.__class__.__name__)\n",
    "print(frozen_unit_type)\n",
    "print(frozen_unit_type.__repr__())\n",
    "\n",
    "\n"
   ]
  }
 ],
 "metadata": {
  "kernelspec": {
   "display_name": "venv",
   "language": "python",
   "name": "python3"
  },
  "language_info": {
   "codemirror_mode": {
    "name": "ipython",
    "version": 3
   },
   "file_extension": ".py",
   "mimetype": "text/x-python",
   "name": "python",
   "nbconvert_exporter": "python",
   "pygments_lexer": "ipython3",
   "version": "3.11.0rc2"
  },
  "orig_nbformat": 4
 },
 "nbformat": 4,
 "nbformat_minor": 2
}
