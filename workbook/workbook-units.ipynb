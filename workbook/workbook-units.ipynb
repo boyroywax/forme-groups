{
 "cells": [
  {
   "cell_type": "code",
   "execution_count": 6,
   "metadata": {},
   "outputs": [
    {
     "name": "stdout",
     "output_type": "stream",
     "text": [
      "[Type_(id_=Id(value='string'), alias=Alias(value=['string', 'str']), super_=Super(value='RESERVED'), prefix=Prefix(value=None), suffix=Suffix(value=None), separator=Separator(value=None), function_=Function(value=<class 'str'>)), Type_(id_=Id(value='integer'), alias=Alias(value=['integer', 'int']), super_=Super(value='RESERVED'), prefix=Prefix(value=None), suffix=Suffix(value=None), separator=Separator(value=None), function_=Function(value=<class 'int'>)), Type_(id_=Id(value='float'), alias=Alias(value=['float']), super_=Super(value='RESERVED'), prefix=Prefix(value=None), suffix=Suffix(value=None), separator=Separator(value=None), function_=Function(value=<class 'float'>)), Type_(id_=Id(value='boolean'), alias=Alias(value=['boolean', 'bool']), super_=Super(value='RESERVED'), prefix=Prefix(value=None), suffix=Suffix(value=None), separator=Separator(value=None), function_=Function(value=<class 'bool'>)), Type_(id_=Id(value='list'), alias=Alias(value=['list']), super_=Super(value='RESERVED'), prefix=Prefix(value='['), suffix=Suffix(value=']'), separator=Separator(value=','), function_=Function(value=<class 'list'>)), Type_(id_=Id(value='tuple'), alias=Alias(value=['tuple']), super_=Super(value='RESERVED'), prefix=Prefix(value='('), suffix=Suffix(value=')'), separator=Separator(value=','), function_=Function(value=<class 'tuple'>)), Type_(id_=Id(value='dictionary'), alias=Alias(value=['dictionary', 'dict']), super_=Super(value='RESERVED'), prefix=Prefix(value='{'), suffix=Suffix(value='}'), separator=Separator(value=','), function_=Function(value=<class 'dict'>)), Type_(id_=Id(value='bytes'), alias=Alias(value=['bytes']), super_=Super(value='RESERVED'), prefix=Prefix(value=\"b'\"), suffix=Suffix(value=\"'\"), separator=Separator(value=None), function_=Function(value=<class 'bytes'>))]\n"
     ]
    }
   ],
   "source": [
    "import sys\n",
    "sys.path.append('/Users/j/Documents/Forme/code/forme-groups')\n",
    "\n",
    "from src.groups.base.units import Units\n",
    "\n",
    "units = Units(\"defaults\")\n",
    "\n",
    "print(units.types)"
   ]
  },
  {
   "cell_type": "code",
   "execution_count": null,
   "metadata": {},
   "outputs": [],
   "source": [
    "import sys\n",
    "sys.path.append('/Users/j/Documents/Forme/code/forme-groups')\n",
    "\n",
    "from src.groups.base.units import Units\n",
    "\n",
    "units = Units(\"defaults\")"
   ]
  }
 ],
 "metadata": {
  "kernelspec": {
   "display_name": "venv",
   "language": "python",
   "name": "python3"
  },
  "language_info": {
   "codemirror_mode": {
    "name": "ipython",
    "version": 3
   },
   "file_extension": ".py",
   "mimetype": "text/x-python",
   "name": "python",
   "nbconvert_exporter": "python",
   "pygments_lexer": "ipython3",
   "version": "3.11.0rc2"
  },
  "orig_nbformat": 4
 },
 "nbformat": 4,
 "nbformat_minor": 2
}
