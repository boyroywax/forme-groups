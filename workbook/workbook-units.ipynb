{
 "cells": [
  {
   "cell_type": "code",
   "execution_count": 13,
   "metadata": {},
   "outputs": [
    {
     "name": "stdout",
     "output_type": "stream",
     "text": [
      "0\n",
      "{'key': ['value']}\n",
      "{'key': ['int']}\n",
      "Level must be greater than or equal to 0.\n",
      "Schema must be a dictionary, not str.\n",
      "Types must match the schema.\n"
     ]
    }
   ],
   "source": [
    "import sys\n",
    "sys.path.append('/Users/j/Documents/Forme/code/forme-groups')\n",
    "\n",
    "from src.groups.base.super.schema import SchemaEntry\n",
    "\n",
    "entry = SchemaEntry(\n",
    "    level=0,\n",
    "    schema={\"key\": [\"value\"]},\n",
    "    types={\"key\": [\"int\"]},\n",
    "    functions={},\n",
    "    overrides={}\n",
    ")\n",
    "\n",
    "print(entry.level)\n",
    "print(entry.schema)\n",
    "print(entry.types)\n",
    "\n",
    "try:\n",
    "    bad_entry = SchemaEntry(\n",
    "        level=-1,\n",
    "        schema={\"key\": [\"value\"]},\n",
    "        types={\"key\": [\"int\"]},\n",
    "        functions={},\n",
    "        overrides={}\n",
    "    )\n",
    "except ValueError as e:\n",
    "    print(e)\n",
    "\n",
    "try:\n",
    "    bad_entry = SchemaEntry(\n",
    "        level=0,\n",
    "        schema=\"invalid\",\n",
    "        types={\"key\": [\"int\"]},\n",
    "        functions={},\n",
    "        overrides={}\n",
    "    )\n",
    "except TypeError as e:\n",
    "    print(e)\n",
    "\n",
    "try:\n",
    "    bad_entry = SchemaEntry(\n",
    "        level=0,\n",
    "        schema={\"key\": [\"value\"], \"key2\": [\"value2\"]},\n",
    "        types={\"key\": [\"int\"], \"key_\": [\"int\"]},\n",
    "        functions={},\n",
    "        overrides={}\n",
    "    )\n",
    "except ValueError as e:\n",
    "    print(e)"
   ]
  },
  {
   "cell_type": "code",
   "execution_count": 18,
   "metadata": {},
   "outputs": [
    {
     "name": "stdout",
     "output_type": "stream",
     "text": [
      "d9d839cba76e4361ab291fe9d83ea674\n",
      "None\n"
     ]
    },
    {
     "ename": "TypeError",
     "evalue": "Type int is not a callable type.",
     "output_type": "error",
     "traceback": [
      "\u001b[0;31m---------------------------------------------------------------------------\u001b[0m",
      "\u001b[0;31mTypeError\u001b[0m                                 Traceback (most recent call last)",
      "Cell \u001b[0;32mIn[18], line 12\u001b[0m\n\u001b[1;32m      9\u001b[0m unit \u001b[39m=\u001b[39m SuperUnit(random\u001b[39m=\u001b[39m\u001b[39mFalse\u001b[39;00m)\n\u001b[1;32m     10\u001b[0m \u001b[39mprint\u001b[39m (unit)\n\u001b[0;32m---> 12\u001b[0m unit \u001b[39m=\u001b[39m SuperUnit(random\u001b[39m=\u001b[39;49m\u001b[39mTrue\u001b[39;49;00m, force_type\u001b[39m=\u001b[39;49m\u001b[39m\"\u001b[39;49m\u001b[39mint\u001b[39;49m\u001b[39m\"\u001b[39;49m)\n\u001b[1;32m     13\u001b[0m \u001b[39mprint\u001b[39m (unit)\n",
      "File \u001b[0;32m~/Documents/Forme/code/forme-groups/src/groups/base/super/schema.py:68\u001b[0m, in \u001b[0;36mSuperUnit.__init__\u001b[0;34m(self, *args, **kwargs)\u001b[0m\n\u001b[1;32m     49\u001b[0m \u001b[39m\u001b[39m\u001b[39m\"\"\"\u001b[39;00m\n\u001b[1;32m     50\u001b[0m \u001b[39mInitializes the Super Unit class and sets the value.\u001b[39;00m\n\u001b[1;32m     51\u001b[0m \n\u001b[0;32m   (...)\u001b[0m\n\u001b[1;32m     65\u001b[0m \u001b[39m    ValueError: If 'force_type' is set and 'value' is None and 'random' is None or False.\u001b[39;00m\n\u001b[1;32m     66\u001b[0m \u001b[39m\"\"\"\u001b[39;00m\n\u001b[1;32m     67\u001b[0m \u001b[39mself\u001b[39m\u001b[39m.\u001b[39mparse_input(\u001b[39m*\u001b[39margs, \u001b[39m*\u001b[39m\u001b[39m*\u001b[39mkwargs)\n\u001b[0;32m---> 68\u001b[0m \u001b[39mself\u001b[39;49m\u001b[39m.\u001b[39;49m__post_init__(\u001b[39m*\u001b[39;49margs, \u001b[39m*\u001b[39;49m\u001b[39m*\u001b[39;49mkwargs)\n",
      "File \u001b[0;32m~/Documents/Forme/code/forme-groups/src/groups/base/super/schema.py:83\u001b[0m, in \u001b[0;36mSuperUnit.__post_init__\u001b[0;34m(self, *args, **kwargs)\u001b[0m\n\u001b[1;32m     75\u001b[0m \u001b[39m\u001b[39m\u001b[39m\"\"\"\u001b[39;00m\n\u001b[1;32m     76\u001b[0m \u001b[39mPost initializes the Super Unit class.\u001b[39;00m\n\u001b[1;32m     77\u001b[0m \n\u001b[0;32m   (...)\u001b[0m\n\u001b[1;32m     80\u001b[0m \u001b[39m        force_type (str): A Callable Type. The type to force the value to.\u001b[39;00m\n\u001b[1;32m     81\u001b[0m \u001b[39m\"\"\"\u001b[39;00m\n\u001b[1;32m     82\u001b[0m \u001b[39mif\u001b[39;00m \u001b[39m\"\u001b[39m\u001b[39mforce_type\u001b[39m\u001b[39m\"\u001b[39m \u001b[39min\u001b[39;00m kwargs \u001b[39mand\u001b[39;00m \u001b[39mself\u001b[39m\u001b[39m.\u001b[39mvalue \u001b[39mis\u001b[39;00m \u001b[39mnot\u001b[39;00m \u001b[39mNone\u001b[39;00m:\n\u001b[0;32m---> 83\u001b[0m     \u001b[39mself\u001b[39;49m\u001b[39m.\u001b[39;49mforce_type(kwargs[\u001b[39m\"\u001b[39;49m\u001b[39mforce_type\u001b[39;49m\u001b[39m\"\u001b[39;49m])\n",
      "File \u001b[0;32m~/Documents/Forme/code/forme-groups/src/groups/base/super/schema.py:259\u001b[0m, in \u001b[0;36mSuperUnit.force_type\u001b[0;34m(self, type_)\u001b[0m\n\u001b[1;32m    256\u001b[0m \u001b[39m# Check if 'type_' is a callable.\u001b[39;00m\n\u001b[1;32m    257\u001b[0m \u001b[39m# if not isinstance(type_, Callable or function or type):\u001b[39;00m\n\u001b[1;32m    258\u001b[0m \u001b[39mif\u001b[39;00m \u001b[39mnot\u001b[39;00m \u001b[39mcallable\u001b[39m(type_):\n\u001b[0;32m--> 259\u001b[0m     \u001b[39mraise\u001b[39;00m \u001b[39mTypeError\u001b[39;00m(\u001b[39mf\u001b[39m\u001b[39m\"\u001b[39m\u001b[39mType \u001b[39m\u001b[39m{\u001b[39;00mtype_\u001b[39m}\u001b[39;00m\u001b[39m is not a callable type.\u001b[39m\u001b[39m\"\u001b[39m)\n\u001b[1;32m    261\u001b[0m \u001b[39mif\u001b[39;00m \u001b[39mnot\u001b[39;00m \u001b[39mself\u001b[39m\u001b[39m.\u001b[39mis_none():\n\u001b[1;32m    262\u001b[0m     \u001b[39mtry\u001b[39;00m:\n",
      "\u001b[0;31mTypeError\u001b[0m: Type int is not a callable type."
     ]
    }
   ],
   "source": [
    "import sys\n",
    "sys.path.append('/Users/j/Documents/Forme/code/forme-groups')\n",
    "\n",
    "from src.groups.base.super.schema import SuperUnit\n",
    "\n",
    "unit = SuperUnit(random=True)\n",
    "print (unit)\n",
    "\n",
    "unit = SuperUnit(random=False)\n",
    "print (unit)\n",
    "\n",
    "try:\n",
    "    unit = SuperUnit(random=True, force_type=\"int\")\n",
    "    print (unit)\n",
    "except TypeError as e:\n",
    "    print(e)\n"
   ]
  }
 ],
 "metadata": {
  "kernelspec": {
   "display_name": "venv",
   "language": "python",
   "name": "python3"
  },
  "language_info": {
   "codemirror_mode": {
    "name": "ipython",
    "version": 3
   },
   "file_extension": ".py",
   "mimetype": "text/x-python",
   "name": "python",
   "nbconvert_exporter": "python",
   "pygments_lexer": "ipython3",
   "version": "3.11.0rc2"
  },
  "orig_nbformat": 4
 },
 "nbformat": 4,
 "nbformat_minor": 2
}
