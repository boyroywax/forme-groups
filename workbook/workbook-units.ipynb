{
 "cells": [
  {
   "cell_type": "code",
   "execution_count": null,
   "metadata": {},
   "outputs": [],
   "source": [
    "import sys\n",
    "sys.path.append('/Users/j/Documents/Forme/code/forme-groups')\n",
    "\n",
    "from src.groups.base.super.schema import SchemaEntry\n",
    "\n",
    "entry = SchemaEntry(\n",
    "    level=0,\n",
    "    schema={\"key\": [\"value\"]},\n",
    "    types={\"key\": [\"int\"]},\n",
    "    functions={},\n",
    "    overrides={}\n",
    ")\n",
    "\n",
    "print(entry.level)\n",
    "print(entry.schema)\n",
    "print(entry.types)\n",
    "\n",
    "try:\n",
    "    bad_entry = SchemaEntry(\n",
    "        level=-1,\n",
    "        schema={\"key\": [\"value\"]},\n",
    "        types={\"key\": [\"int\"]},\n",
    "        functions={},\n",
    "        overrides={}\n",
    "    )\n",
    "except ValueError as e:\n",
    "    print(e)\n",
    "\n",
    "try:\n",
    "    bad_entry = SchemaEntry(\n",
    "        level=0,\n",
    "        schema=\"invalid\",\n",
    "        types={\"key\": [\"int\"]},\n",
    "        functions={},\n",
    "        overrides={}\n",
    "    )\n",
    "except TypeError as e:\n",
    "    print(e)\n",
    "\n",
    "try:\n",
    "    bad_entry = SchemaEntry(\n",
    "        level=0,\n",
    "        schema={\"key\": [\"value\"], \"key2\": [\"value2\"]},\n",
    "        types={\"key\": [\"int\"], \"key_\": [\"int\"]},\n",
    "        functions={},\n",
    "        overrides={}\n",
    "    )\n",
    "except ValueError as e:\n",
    "    print(e)"
   ]
  },
  {
   "cell_type": "code",
   "execution_count": 2,
   "metadata": {},
   "outputs": [
    {
     "name": "stdout",
     "output_type": "stream",
     "text": [
      "43baaad26afb48b1b4abe80b14f010cc\n",
      "None\n",
      "112482705352308528555460880307256812175\n",
      "8ce52e865de04fad899b6514a57c2c88\n",
      "178710125530041604901515944553457235155\n",
      "False\n",
      "1\n"
     ]
    },
    {
     "ename": "NameError",
     "evalue": "name 'ptint' is not defined",
     "output_type": "error",
     "traceback": [
      "\u001b[0;31m---------------------------------------------------------------------------\u001b[0m",
      "\u001b[0;31mNameError\u001b[0m                                 Traceback (most recent call last)",
      "Cell \u001b[0;32mIn[2], line 29\u001b[0m\n\u001b[1;32m     27\u001b[0m unit \u001b[39m=\u001b[39m SuperUnit(value\u001b[39m=\u001b[39m\u001b[39m1\u001b[39m)\n\u001b[1;32m     28\u001b[0m \u001b[39mprint\u001b[39m (unit)\n\u001b[0;32m---> 29\u001b[0m ptint (unit\u001b[39m.\u001b[39mget_value_type())\n\u001b[1;32m     31\u001b[0m unit \u001b[39m=\u001b[39m SuperUnit(value\u001b[39m=\u001b[39m\u001b[39m10.1\u001b[39m, force_type\u001b[39m=\u001b[39m\u001b[39mint\u001b[39m)\n\u001b[1;32m     32\u001b[0m \u001b[39mprint\u001b[39m (unit)\n",
      "\u001b[0;31mNameError\u001b[0m: name 'ptint' is not defined"
     ]
    }
   ],
   "source": [
    "import sys\n",
    "sys.path.append('/Users/j/Documents/Forme/code/forme-groups')\n",
    "\n",
    "from src.groups.base.super.schema import SuperUnit\n",
    "\n",
    "unit = SuperUnit(random=True)\n",
    "print (unit)\n",
    "\n",
    "unit = SuperUnit(random=False)\n",
    "print (unit)\n",
    "\n",
    "try:\n",
    "    unit = SuperUnit(random=True, force_type=int)\n",
    "    print (unit)\n",
    "except TypeError as e:\n",
    "    print(e)\n",
    "\n",
    "unit = SuperUnit(random=True, force_type=str)\n",
    "print (unit)\n",
    "\n",
    "unit = SuperUnit(random=True, force_type=float)\n",
    "print (unit)\n",
    "\n",
    "unit = SuperUnit(random=True, force_type=bool)\n",
    "print (unit)\n",
    "\n",
    "unit = SuperUnit(value=1)\n",
    "print (unit)\n",
    "print (unit.get_value_type())\n",
    "\n",
    "unit = SuperUnit(value=10.1, force_type=int)\n",
    "print (unit)\n",
    "print (unit.get_value_type())\n",
    "\n",
    "\n",
    "\n"
   ]
  }
 ],
 "metadata": {
  "kernelspec": {
   "display_name": "venv",
   "language": "python",
   "name": "python3"
  },
  "language_info": {
   "codemirror_mode": {
    "name": "ipython",
    "version": 3
   },
   "file_extension": ".py",
   "mimetype": "text/x-python",
   "name": "python",
   "nbconvert_exporter": "python",
   "pygments_lexer": "ipython3",
   "version": "3.11.0rc2"
  },
  "orig_nbformat": 4
 },
 "nbformat": 4,
 "nbformat_minor": 2
}
