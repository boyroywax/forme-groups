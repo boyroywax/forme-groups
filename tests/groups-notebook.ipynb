{
 "cells": [
  {
   "cell_type": "code",
   "execution_count": 1,
   "metadata": {},
   "outputs": [
    {
     "name": "stdout",
     "output_type": "stream",
     "text": [
      "['string', 'str', 'int', 'integer', 'float', 'bool', 'boolean', 'list', 'dict', 'dictionary', 'tuple', 'bytes', 'test_unit_type']\n",
      "[]\n",
      "Creating new group unit with default nonce.\n",
      "GroupUnit(nonce=0, ownership=None, credentials=None, data=None)\n",
      "Creating new group unit from previous nonce.\n",
      "1\n",
      "[GroupUnit(nonce=0, ownership=None, credentials=None, data=None), GroupUnit(nonce=1, ownership=None, credentials=None, data=None)]\n"
     ]
    },
    {
     "ename": "TypeError",
     "evalue": "Group.create_group_unit() got an unexpected keyword argument 'data_unit'",
     "output_type": "error",
     "traceback": [
      "\u001b[0;31m---------------------------------------------------------------------------\u001b[0m",
      "\u001b[0;31mTypeError\u001b[0m                                 Traceback (most recent call last)",
      "Cell \u001b[0;32mIn[1], line 61\u001b[0m\n\u001b[1;32m     52\u001b[0m     group\u001b[39m.\u001b[39mcreate_group_unit(data_unit\u001b[39m=\u001b[39mdata_unit)\n\u001b[1;32m     54\u001b[0m     \u001b[39mprint\u001b[39m(group\u001b[39m.\u001b[39mgroup_units)\n\u001b[0;32m---> 61\u001b[0m main()\n",
      "Cell \u001b[0;32mIn[1], line 52\u001b[0m, in \u001b[0;36mmain\u001b[0;34m()\u001b[0m\n\u001b[1;32m     45\u001b[0m \u001b[39mprint\u001b[39m(group\u001b[39m.\u001b[39mgroup_units)\n\u001b[1;32m     47\u001b[0m data_unit \u001b[39m=\u001b[39m group\u001b[39m.\u001b[39m_group_unit_generator\u001b[39m.\u001b[39munit_generator\u001b[39m.\u001b[39mcreate_unit(\n\u001b[1;32m     48\u001b[0m     alias\u001b[39m=\u001b[39m\u001b[39m\"\u001b[39m\u001b[39mtest_unit_type\u001b[39m\u001b[39m\"\u001b[39m,\n\u001b[1;32m     49\u001b[0m     value\u001b[39m=\u001b[39m\u001b[39m\"\u001b[39m\u001b[39mtest<test1|test2>\u001b[39m\u001b[39m\"\u001b[39m\n\u001b[1;32m     50\u001b[0m )\n\u001b[0;32m---> 52\u001b[0m group\u001b[39m.\u001b[39;49mcreate_group_unit(data_unit\u001b[39m=\u001b[39;49mdata_unit)\n\u001b[1;32m     54\u001b[0m \u001b[39mprint\u001b[39m(group\u001b[39m.\u001b[39mgroup_units)\n",
      "\u001b[0;31mTypeError\u001b[0m: Group.create_group_unit() got an unexpected keyword argument 'data_unit'"
     ]
    }
   ],
   "source": [
    "import sys\n",
    "\n",
    "sys.path.append(\"/Users/j/Documents/Forme/code/forme-groups\")\n",
    "\n",
    "from src.groups.unit import UnitType, UnitTypeRef\n",
    "from src.groups.group import Group, Data\n",
    "\n",
    "\n",
    "def main():\n",
    "    # Create a default group\n",
    "    group = Group(\n",
    "        system_types_path=\"/Users/j/Documents/Forme/code/forme-groups/src/groups/system_types.json\"\n",
    "    )\n",
    "\n",
    "    # Create a new unit type\n",
    "    new_unit_type = UnitType(\n",
    "        aliases= (UnitTypeRef(\"test_unit_type\"),),\n",
    "        super_type=UnitTypeRef(\"str\"),\n",
    "        prefix=\"test<\",\n",
    "        suffix=\">\",\n",
    "        separator=\"|\",\n",
    "        sys_function=None\n",
    "    )\n",
    "\n",
    "    # Add a unit type to the group\n",
    "    group._group_unit_generator.unit_generator.unit_type_pool.add_unit_type(\n",
    "        new_unit_type\n",
    "    )\n",
    "\n",
    "    # freeze the unit types\n",
    "    group.freeze_unit_types()\n",
    "\n",
    "    print(group._group_unit_generator.unit_generator.unit_type_pool.get_type_aliases())\n",
    "\n",
    "    print(group.group_units)\n",
    "    \n",
    "    unit1 = group.create_group_unit()\n",
    "\n",
    "    print(unit1)\n",
    "\n",
    "    group.create_group_unit()\n",
    "\n",
    "    print(group.get_nonce_tiers())\n",
    "\n",
    "    print(group.group_units)\n",
    "\n",
    "    data_unit = group._group_unit_generator.unit_generator.create_unit(\n",
    "        alias=\"test_unit_type\",\n",
    "        value=\"test<test1|test2>\"\n",
    "    )\n",
    "\n",
    "    group.create_group_unit(data=data_unit)\n",
    "\n",
    "    print(group.group_units)\n",
    "\n",
    "\n",
    "\n",
    "\n",
    "\n",
    "\n",
    "main()"
   ]
  }
 ],
 "metadata": {
  "kernelspec": {
   "display_name": "venv",
   "language": "python",
   "name": "python3"
  },
  "language_info": {
   "codemirror_mode": {
    "name": "ipython",
    "version": 3
   },
   "file_extension": ".py",
   "mimetype": "text/x-python",
   "name": "python",
   "nbconvert_exporter": "python",
   "pygments_lexer": "ipython3",
   "version": "3.11.0rc2"
  },
  "orig_nbformat": 4
 },
 "nbformat": 4,
 "nbformat_minor": 2
}
