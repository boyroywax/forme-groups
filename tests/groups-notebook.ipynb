{
 "cells": [
  {
   "cell_type": "code",
   "execution_count": 1,
   "metadata": {},
   "outputs": [
    {
     "name": "stdout",
     "output_type": "stream",
     "text": [
      "['string', 'str', 'int', 'integer', 'float', 'bool', 'boolean', 'list', 'dict', 'dictionary', 'tuple', 'bytes', 'schema', 'Schema', 'test_unit_type']\n",
      "[]\n",
      "Creating new group unit with default nonce.\n",
      "GroupUnit(nonce=None, ownership=None, credentials=None, data=None)\n",
      "Creating new group unit from previous nonce.\n"
     ]
    },
    {
     "ename": "TypeError",
     "evalue": "unsupported operand type(s) for +: 'NoneType' and 'int'",
     "output_type": "error",
     "traceback": [
      "\u001b[0;31m---------------------------------------------------------------------------\u001b[0m",
      "\u001b[0;31mTypeError\u001b[0m                                 Traceback (most recent call last)",
      "Cell \u001b[0;32mIn[1], line 84\u001b[0m\n\u001b[1;32m     80\u001b[0m     \u001b[39mprint\u001b[39m(group\u001b[39m.\u001b[39m\u001b[39m__slots__\u001b[39m)\n\u001b[1;32m     81\u001b[0m     \u001b[39mprint\u001b[39m(\u001b[39mhash\u001b[39m(group))\n\u001b[0;32m---> 84\u001b[0m main()\n",
      "Cell \u001b[0;32mIn[1], line 52\u001b[0m, in \u001b[0;36mmain\u001b[0;34m()\u001b[0m\n\u001b[1;32m     49\u001b[0m \u001b[39mprint\u001b[39m(unit1)\n\u001b[1;32m     51\u001b[0m \u001b[39m# Create another new unit - Nonce: 1\u001b[39;00m\n\u001b[0;32m---> 52\u001b[0m group\u001b[39m.\u001b[39;49mcreate_group_unit()\n\u001b[1;32m     53\u001b[0m \u001b[39mprint\u001b[39m(group\u001b[39m.\u001b[39mget_nonce_tiers())\n\u001b[1;32m     54\u001b[0m \u001b[39mprint\u001b[39m(group\u001b[39m.\u001b[39mgroup_units)\n",
      "File \u001b[0;32m~/Documents/Forme/code/forme-groups/src/groups/group.py:306\u001b[0m, in \u001b[0;36mGroup.create_group_unit\u001b[0;34m(self, active_unit, ownership, credentials, data)\u001b[0m\n\u001b[1;32m    304\u001b[0m \u001b[39melif\u001b[39;00m active_unit \u001b[39mis\u001b[39;00m \u001b[39mNone\u001b[39;00m \u001b[39mand\u001b[39;00m \u001b[39mself\u001b[39m\u001b[39m.\u001b[39mactive_unit \u001b[39mis\u001b[39;00m \u001b[39mnot\u001b[39;00m \u001b[39mNone\u001b[39;00m:\n\u001b[1;32m    305\u001b[0m     \u001b[39mprint\u001b[39m(\u001b[39m\"\u001b[39m\u001b[39mCreating new group unit from previous nonce.\u001b[39m\u001b[39m\"\u001b[39m)\n\u001b[0;32m--> 306\u001b[0m     nonce \u001b[39m=\u001b[39m \u001b[39mself\u001b[39;49m\u001b[39m.\u001b[39;49mactive_unit\u001b[39m.\u001b[39;49mnonce\u001b[39m.\u001b[39;49mnext_active_nonce()\n\u001b[1;32m    308\u001b[0m \u001b[39melif\u001b[39;00m active_unit \u001b[39mis\u001b[39;00m \u001b[39mnot\u001b[39;00m \u001b[39mNone\u001b[39;00m \u001b[39mand\u001b[39;00m \u001b[39mself\u001b[39m\u001b[39m.\u001b[39mactive_unit \u001b[39mis\u001b[39;00m \u001b[39mNone\u001b[39;00m:\n\u001b[1;32m    309\u001b[0m     \u001b[39mprint\u001b[39m(\u001b[39m\"\u001b[39m\u001b[39mCreating new group unit from active nonce.\u001b[39m\u001b[39m\"\u001b[39m)\n",
      "File \u001b[0;32m~/Documents/Forme/code/forme-groups/src/groups/group.py:97\u001b[0m, in \u001b[0;36mNonce.next_active_nonce\u001b[0;34m(self)\u001b[0m\n\u001b[1;32m     96\u001b[0m \u001b[39mdef\u001b[39;00m \u001b[39mnext_active_nonce\u001b[39m(\u001b[39mself\u001b[39m) \u001b[39m-\u001b[39m\u001b[39m>\u001b[39m \u001b[39m'\u001b[39m\u001b[39mNonce\u001b[39m\u001b[39m'\u001b[39m:\n\u001b[0;32m---> 97\u001b[0m     \u001b[39mreturn\u001b[39;00m Nonce(units\u001b[39m=\u001b[39m\u001b[39mself\u001b[39m\u001b[39m.\u001b[39munits[:\u001b[39m-\u001b[39m\u001b[39m1\u001b[39m] \u001b[39m+\u001b[39m (\u001b[39mself\u001b[39;49m\u001b[39m.\u001b[39;49mnext_active_unit(),))\n",
      "File \u001b[0;32m~/Documents/Forme/code/forme-groups/src/groups/group.py:88\u001b[0m, in \u001b[0;36mNonce.next_active_unit\u001b[0;34m(self)\u001b[0m\n\u001b[1;32m     86\u001b[0m \u001b[39mmatch\u001b[39;00m(\u001b[39mself\u001b[39m\u001b[39m.\u001b[39mactive_unit()\u001b[39m.\u001b[39mtype_ref\u001b[39m.\u001b[39malias):\n\u001b[1;32m     87\u001b[0m     \u001b[39mcase\u001b[39;00m(\u001b[39m\"\u001b[39m\u001b[39mint\u001b[39m\u001b[39m\"\u001b[39m \u001b[39m|\u001b[39m \u001b[39m\"\u001b[39m\u001b[39minteger\u001b[39m\u001b[39m\"\u001b[39m):\n\u001b[0;32m---> 88\u001b[0m         \u001b[39mreturn\u001b[39;00m Unit(value\u001b[39m=\u001b[39m\u001b[39mself\u001b[39;49m\u001b[39m.\u001b[39;49mactive_unit()\u001b[39m.\u001b[39;49mvalue \u001b[39m+\u001b[39;49m \u001b[39m1\u001b[39;49m, type_ref\u001b[39m=\u001b[39m\u001b[39mself\u001b[39m\u001b[39m.\u001b[39mactive_unit()\u001b[39m.\u001b[39mtype_ref)\n\u001b[1;32m     90\u001b[0m     \u001b[39mcase\u001b[39;00m(\u001b[39m\"\u001b[39m\u001b[39mstr\u001b[39m\u001b[39m\"\u001b[39m \u001b[39m|\u001b[39m \u001b[39m\"\u001b[39m\u001b[39mstring\u001b[39m\u001b[39m\"\u001b[39m):\n\u001b[1;32m     91\u001b[0m         \u001b[39mraise\u001b[39;00m \u001b[39mValueError\u001b[39;00m(\u001b[39m\"\u001b[39m\u001b[39mNonce active unit type not supported.\u001b[39m\u001b[39m\"\u001b[39m)\n",
      "\u001b[0;31mTypeError\u001b[0m: unsupported operand type(s) for +: 'NoneType' and 'int'"
     ]
    }
   ],
   "source": [
    "import sys\n",
    "\n",
    "sys.path.append(\"/Users/j/Documents/Forme/code/forme-groups\")\n",
    "\n",
    "from src.groups.unit import Unit, UnitType, UnitTypeRef, UnitTypeFunction\n",
    "from src.groups.group import Group, Data\n",
    "\n",
    "\n",
    "def main():\n",
    "    # Create a default group\n",
    "    group = Group(\n",
    "        system_types_path=\"/Users/j/Documents/Forme/code/forme-groups/src/groups/system_types.json\"\n",
    "    )\n",
    "\n",
    "    # Create function to be used as a system function\n",
    "    def test_function(input_str):\n",
    "        if input_str.startswith(\"test<\") and input_str.endswith(\">\") and \"|\" in input_str:\n",
    "            return input_str[5:-1].split(\"|\")\n",
    "        elif input_str.startswith(\"test<\") and input_str.endswith(\">\"):\n",
    "            return input_str[5:-1]\n",
    "        else:\n",
    "            return input_str\n",
    "\n",
    "    # Create a new unit type\n",
    "    new_unit_type = UnitType(\n",
    "        aliases= (UnitTypeRef(\"test_unit_type\"),),\n",
    "        super_type=UnitTypeRef(\"str\"),\n",
    "        prefix=\"test<\",\n",
    "        suffix=\">\",\n",
    "        separator=\"|\",\n",
    "        sys_function=UnitTypeFunction(\n",
    "            object=test_function,\n",
    "            args=(),\n",
    "        )\n",
    "    )\n",
    "\n",
    "    # Add a unit type to the group\n",
    "    group._group_unit_generator.unit_generator.unit_type_pool.add_unit_type(\n",
    "        new_unit_type\n",
    "    )\n",
    "\n",
    "    # Freeze the unit types\n",
    "    group.freeze_unit_types()\n",
    "    print(group._group_unit_generator.unit_generator.unit_type_pool.get_type_aliases())\n",
    "    print(group.group_units)\n",
    "    \n",
    "    # Create a new unit - Nonce: 0\n",
    "    unit1 = group.create_group_unit()\n",
    "    print(unit1)\n",
    "\n",
    "    # Create another new unit - Nonce: 1\n",
    "    group.create_group_unit()\n",
    "    print(group.get_nonce_tiers())\n",
    "    print(group.group_units)\n",
    "\n",
    "    # Create a new unit with data - Nonce: 2\n",
    "    data_unit: Unit = group._group_unit_generator.unit_generator.create_unit(\n",
    "        alias=\"test_unit_type\",\n",
    "        value=\"test<test1|test2|test3>\"\n",
    "    )\n",
    "    data_object: Data = group._group_unit_generator.create_data(data=(data_unit,))\n",
    "    new_unit = group.create_group_unit(data=data_object)\n",
    "    print(new_unit)\n",
    "    print(group._group_unit_generator.unit_generator.format_unit(new_unit.data.entries[0]))\n",
    "    print(group.format_group_unit(new_unit))\n",
    "    #print(group.format_group_unit())\n",
    "\n",
    "    # Create a new unit with a schema - Nonce: 3\n",
    "    schema_unit: Unit = group._group_unit_generator.unit_generator.create_unit(\n",
    "        alias=\"dict\",\n",
    "        value={'Schema': {'test': 'str'}}\n",
    "    )\n",
    "    schema_object: Data = group._group_unit_generator.create_data(data=(schema_unit,))\n",
    "    new_unit = group.create_group_unit(data=schema_object)\n",
    "    print(new_unit)\n",
    "    print(new_unit.data.get_schema())\n",
    "    print(group.group_units)\n",
    "\n",
    "    print(group.get_all_group_units()[0].nonce)\n",
    "    print(group.__slots__)\n",
    "    print(hash(group))\n",
    "\n",
    "\n",
    "main()"
   ]
  },
  {
   "cell_type": "code",
   "execution_count": null,
   "metadata": {},
   "outputs": [
    {
     "name": "stdout",
     "output_type": "stream",
     "text": [
      "Pool(items=['test0', 'test1', 'test2', 'test4'])\n"
     ]
    },
    {
     "ename": "TypeError",
     "evalue": "'UnitTypePool' object is not iterable",
     "output_type": "error",
     "traceback": [
      "\u001b[0;31m---------------------------------------------------------------------------\u001b[0m",
      "\u001b[0;31mTypeError\u001b[0m                                 Traceback (most recent call last)",
      "Cell \u001b[0;32mIn[2], line 34\u001b[0m\n\u001b[1;32m     30\u001b[0m     \u001b[39m# type_pool.add(type_str)\u001b[39;00m\n\u001b[1;32m     31\u001b[0m     type_pool\u001b[39m.\u001b[39mfrozen \u001b[39m=\u001b[39m \u001b[39mFalse\u001b[39;00m\n\u001b[0;32m---> 34\u001b[0m main()\n",
      "Cell \u001b[0;32mIn[2], line 26\u001b[0m, in \u001b[0;36mmain\u001b[0;34m()\u001b[0m\n\u001b[1;32m     23\u001b[0m type_pool\u001b[39m.\u001b[39mset_types_from_json(\u001b[39m\"\u001b[39m\u001b[39m/Users/j/Documents/Forme/code/forme-groups/src/groups/system_types.json\u001b[39m\u001b[39m\"\u001b[39m)\n\u001b[1;32m     24\u001b[0m type_pool\u001b[39m.\u001b[39mfreeze()\n\u001b[0;32m---> 26\u001b[0m \u001b[39mprint\u001b[39m(item \u001b[39mfor\u001b[39;00m item \u001b[39min\u001b[39;00m type_pool)\n\u001b[1;32m     27\u001b[0m \u001b[39mprint\u001b[39m(type_pool\u001b[39m.\u001b[39mget_type_aliases())\n\u001b[1;32m     28\u001b[0m \u001b[39mprint\u001b[39m(type_str\u001b[39m.\u001b[39m\u001b[39m__slots__\u001b[39m)\n",
      "\u001b[0;31mTypeError\u001b[0m: 'UnitTypePool' object is not iterable"
     ]
    }
   ],
   "source": [
    "import sys\n",
    "\n",
    "sys.path.append(\"/Users/j/Documents/Forme/code/forme-groups\")\n",
    "\n",
    "from src.groups.unit import Unit, UnitType, UnitTypeRef, UnitTypeFunction, UnitGenerator\n",
    "# from src.groups.nonce import Nonce\n",
    "from src.groups.pool import Pool, UnitTypePool\n",
    "\n",
    "\n",
    "def main():\n",
    "\n",
    "    generic_pool = Pool(items=[\"test0\"])\n",
    "    generic_pool.add(\"test1\")\n",
    "    generic_pool.add(\"test2\")\n",
    "    generic_pool.add(\"test4\")\n",
    "\n",
    "    print(generic_pool)\n",
    "\n",
    "\n",
    "    type_str = UnitType(aliases=[UnitTypeRef(\"test\")], super_type=UnitTypeRef(\"test\"), prefix=\"\", suffix=\"\", separator=\"\", sys_function=UnitTypeFunction(object=str, args=()))\n",
    "    # type_pool.add(type_str)\n",
    "    type_pool = UnitTypePool(items=(type_str,))\n",
    "    type_pool.set_types_from_json(\"/Users/j/Documents/Forme/code/forme-groups/src/groups/system_types.json\")\n",
    "    type_pool.freeze()\n",
    "\n",
    "    print(item for item in type_pool)\n",
    "    print(type_pool.get_type_aliases())\n",
    "    print(type_str.__slots__)\n",
    "    print(type_pool.__slots__)\n",
    "    # type_pool.add(type_str)\n",
    "    print(hash(type_pool))\n",
    "\n",
    "\n",
    "\n",
    "\n",
    "main()"
   ]
  }
 ],
 "metadata": {
  "kernelspec": {
   "display_name": "venv",
   "language": "python",
   "name": "python3"
  },
  "language_info": {
   "codemirror_mode": {
    "name": "ipython",
    "version": 3
   },
   "file_extension": ".py",
   "mimetype": "text/x-python",
   "name": "python",
   "nbconvert_exporter": "python",
   "pygments_lexer": "ipython3",
   "version": "3.11.0rc2"
  },
  "orig_nbformat": 4
 },
 "nbformat": 4,
 "nbformat_minor": 2
}
