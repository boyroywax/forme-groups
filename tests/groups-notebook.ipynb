{
 "cells": [
  {
   "cell_type": "code",
   "execution_count": 1,
   "metadata": {},
   "outputs": [
    {
     "name": "stdout",
     "output_type": "stream",
     "text": [
      "['string', 'str', 'int', 'integer', 'float', 'bool', 'boolean', 'list', 'dict', 'dictionary', 'tuple', 'bytes']\n",
      "[]\n",
      "Creating new group unit with default nonce.\n"
     ]
    },
    {
     "ename": "Exception",
     "evalue": "UnitTypePool must be frozen before generating units.",
     "output_type": "error",
     "traceback": [
      "\u001b[0;31m---------------------------------------------------------------------------\u001b[0m",
      "\u001b[0;31mException\u001b[0m                                 Traceback (most recent call last)",
      "Cell \u001b[0;32mIn[1], line 24\u001b[0m\n\u001b[1;32m     20\u001b[0m     group\u001b[39m.\u001b[39mcreate_group_unit(active_unit \u001b[39m=\u001b[39m unit1)\n\u001b[1;32m     22\u001b[0m     \u001b[39mprint\u001b[39m(group\u001b[39m.\u001b[39mgroup_units)\n\u001b[0;32m---> 24\u001b[0m main()\n",
      "Cell \u001b[0;32mIn[1], line 18\u001b[0m, in \u001b[0;36mmain\u001b[0;34m()\u001b[0m\n\u001b[1;32m     14\u001b[0m \u001b[39mprint\u001b[39m(group\u001b[39m.\u001b[39m_group_unit_generator\u001b[39m.\u001b[39munit_generator\u001b[39m.\u001b[39munit_type_pool\u001b[39m.\u001b[39mget_type_aliases())\n\u001b[1;32m     16\u001b[0m \u001b[39mprint\u001b[39m(group\u001b[39m.\u001b[39mgroup_units)\n\u001b[0;32m---> 18\u001b[0m unit1 \u001b[39m=\u001b[39m group\u001b[39m.\u001b[39;49mcreate_group_unit()\n\u001b[1;32m     20\u001b[0m group\u001b[39m.\u001b[39mcreate_group_unit(active_unit \u001b[39m=\u001b[39m unit1)\n\u001b[1;32m     22\u001b[0m \u001b[39mprint\u001b[39m(group\u001b[39m.\u001b[39mgroup_units)\n",
      "File \u001b[0;32m~/Documents/Forme/code/forme-groups/src/groups/group.py:207\u001b[0m, in \u001b[0;36mGroup.create_group_unit\u001b[0;34m(self, active_unit, ownership, credentials, data)\u001b[0m\n\u001b[1;32m    205\u001b[0m     \u001b[39mif\u001b[39;00m \u001b[39mlen\u001b[39m(\u001b[39mself\u001b[39m\u001b[39m.\u001b[39mgroup_units) \u001b[39m==\u001b[39m \u001b[39m0\u001b[39m:\n\u001b[1;32m    206\u001b[0m         \u001b[39mprint\u001b[39m(\u001b[39m\"\u001b[39m\u001b[39mCreating new group unit with default nonce.\u001b[39m\u001b[39m\"\u001b[39m)\n\u001b[0;32m--> 207\u001b[0m         nonce \u001b[39m=\u001b[39m \u001b[39mself\u001b[39;49m\u001b[39m.\u001b[39;49m_group_unit_generator\u001b[39m.\u001b[39;49mcreate_nonce()\n\u001b[1;32m    209\u001b[0m \u001b[39melif\u001b[39;00m active_unit \u001b[39mis\u001b[39;00m \u001b[39mNone\u001b[39;00m \u001b[39mand\u001b[39;00m \u001b[39mself\u001b[39m\u001b[39m.\u001b[39mactive_unit \u001b[39mis\u001b[39;00m \u001b[39mnot\u001b[39;00m \u001b[39mNone\u001b[39;00m:\n\u001b[1;32m    210\u001b[0m     \u001b[39mprint\u001b[39m(\u001b[39m\"\u001b[39m\u001b[39mCreating new group unit from previous nonce.\u001b[39m\u001b[39m\"\u001b[39m)\n",
      "File \u001b[0;32m~/Documents/Forme/code/forme-groups/src/groups/group.py:100\u001b[0m, in \u001b[0;36mGroupUnitGenerator.create_nonce\u001b[0;34m(self, nonce)\u001b[0m\n\u001b[1;32m     98\u001b[0m \u001b[39mdef\u001b[39;00m \u001b[39mcreate_nonce\u001b[39m(\u001b[39mself\u001b[39m, nonce: \u001b[39mtuple\u001b[39m[Unit] \u001b[39m=\u001b[39m \u001b[39mNone\u001b[39;00m) \u001b[39m-\u001b[39m\u001b[39m>\u001b[39m Nonce:\n\u001b[1;32m     99\u001b[0m     \u001b[39mif\u001b[39;00m nonce \u001b[39mis\u001b[39;00m \u001b[39mNone\u001b[39;00m:\n\u001b[0;32m--> 100\u001b[0m         \u001b[39mreturn\u001b[39;00m Nonce(units\u001b[39m=\u001b[39m(\u001b[39mself\u001b[39;49m\u001b[39m.\u001b[39;49munit_generator\u001b[39m.\u001b[39;49mcreate_unit(alias\u001b[39m=\u001b[39;49m__DEFAULT_NONCE_UNIT_TYPE_ALIAS__, value\u001b[39m=\u001b[39;49m\u001b[39m0\u001b[39;49m),))\n\u001b[1;32m    102\u001b[0m     \u001b[39mfor\u001b[39;00m unit \u001b[39min\u001b[39;00m nonce:\n\u001b[1;32m    103\u001b[0m         \u001b[39mif\u001b[39;00m unit\u001b[39m.\u001b[39mtype_ref\u001b[39m.\u001b[39malias \u001b[39mnot\u001b[39;00m \u001b[39min\u001b[39;00m __DEFAULT_NONCE_UNIT_ALLOWED_TYPES__:\n",
      "File \u001b[0;32m~/Documents/Forme/code/forme-groups/src/groups/unit.py:221\u001b[0m, in \u001b[0;36mUnitGenerator.create_unit\u001b[0;34m(self, alias, value, force)\u001b[0m\n\u001b[1;32m    219\u001b[0m \u001b[39mdef\u001b[39;00m \u001b[39mcreate_unit\u001b[39m(\u001b[39mself\u001b[39m, alias: \u001b[39mstr\u001b[39m, value: Any \u001b[39m=\u001b[39m \u001b[39mNone\u001b[39;00m, force: \u001b[39mbool\u001b[39m \u001b[39m=\u001b[39m \u001b[39mTrue\u001b[39;00m) \u001b[39m-\u001b[39m\u001b[39m>\u001b[39m Unit:\n\u001b[1;32m    220\u001b[0m     \u001b[39mif\u001b[39;00m \u001b[39mnot\u001b[39;00m \u001b[39mself\u001b[39m\u001b[39m.\u001b[39mcheck_frozen_pool():\n\u001b[0;32m--> 221\u001b[0m         \u001b[39mraise\u001b[39;00m \u001b[39mException\u001b[39;00m(\u001b[39m\"\u001b[39m\u001b[39mUnitTypePool must be frozen before generating units.\u001b[39m\u001b[39m\"\u001b[39m)\n\u001b[1;32m    223\u001b[0m     unit_type: UnitType \u001b[39m=\u001b[39m \u001b[39mself\u001b[39m\u001b[39m.\u001b[39munit_type_pool\u001b[39m.\u001b[39mget_type_from_alias(alias)\n\u001b[1;32m    225\u001b[0m     \u001b[39mif\u001b[39;00m unit_type \u001b[39mis\u001b[39;00m \u001b[39mNone\u001b[39;00m:\n",
      "\u001b[0;31mException\u001b[0m: UnitTypePool must be frozen before generating units."
     ]
    }
   ],
   "source": [
    "import sys\n",
    "\n",
    "sys.path.append(\"/Users/j/Documents/Forme/code/forme-groups\")\n",
    "\n",
    "from src.groups.group import Group\n",
    "\n",
    "\n",
    "def main():\n",
    "    # Create a default group\n",
    "    group = Group(\n",
    "        system_types_path=\"/Users/j/Documents/Forme/code/forme-groups/src/groups/system_types.json\"\n",
    "    )\n",
    "\n",
    "    group.freeze_unit_types()\n",
    "\n",
    "    print(group._group_unit_generator.unit_generator.unit_type_pool.get_type_aliases())\n",
    "\n",
    "    print(group.group_units)\n",
    "    \n",
    "    unit1 = group.create_group_unit()\n",
    "\n",
    "    group.create_group_unit(active_unit = unit1)\n",
    "\n",
    "    print(group.group_units)\n",
    "\n",
    "main()"
   ]
  }
 ],
 "metadata": {
  "kernelspec": {
   "display_name": "venv",
   "language": "python",
   "name": "python3"
  },
  "language_info": {
   "codemirror_mode": {
    "name": "ipython",
    "version": 3
   },
   "file_extension": ".py",
   "mimetype": "text/x-python",
   "name": "python",
   "nbconvert_exporter": "python",
   "pygments_lexer": "ipython3",
   "version": "3.11.0rc2"
  },
  "orig_nbformat": 4
 },
 "nbformat": 4,
 "nbformat_minor": 2
}
