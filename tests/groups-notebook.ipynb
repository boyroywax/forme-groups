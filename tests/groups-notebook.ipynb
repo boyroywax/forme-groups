{
 "cells": [
  {
   "cell_type": "code",
   "execution_count": 1,
   "metadata": {},
   "outputs": [],
   "source": [
    "import sys\n",
    "\n",
    "sys.path.append(\"/Users/j/Documents/Forme/code/forme-groups\")\n",
    "\n",
    "from src.groups.group import Group\n",
    "\n",
    "\n",
    "def main():\n",
    "    # Create a default group\n",
    "    group = Group(\n",
    "        system_types_path=\"/Users/j/Documents/Forme/code/forme-groups/src/groups/system_types.json\"\n",
    "    )\n",
    "    \n",
    "    print(group._group_unit_generator.unit_generator.unit_type_pool.get_type_aliases())\n",
    "    \n",
    "    \n",
    "\n",
    "main()"
   ]
  }
 ],
 "metadata": {
  "kernelspec": {
   "display_name": "venv",
   "language": "python",
   "name": "python3"
  },
  "language_info": {
   "codemirror_mode": {
    "name": "ipython",
    "version": 3
   },
   "file_extension": ".py",
   "mimetype": "text/x-python",
   "name": "python",
   "nbconvert_exporter": "python",
   "pygments_lexer": "ipython3",
   "version": "3.11.0rc2"
  },
  "orig_nbformat": 4
 },
 "nbformat": 4,
 "nbformat_minor": 2
}
