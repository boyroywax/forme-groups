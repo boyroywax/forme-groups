{
 "cells": [
  {
   "cell_type": "code",
   "execution_count": 2,
   "metadata": {},
   "outputs": [
    {
     "name": "stdout",
     "output_type": "stream",
     "text": [
      "['string', 'str', 'int', 'integer', 'float', 'bool', 'boolean', 'list', 'dict', 'dictionary', 'tuple', 'bytes', 'test_unit_type']\n",
      "[GroupUnit(nonce=0, ownership=None, credentials=None, data=None), GroupUnit(nonce=1, ownership=None, credentials=None, data=None), GroupUnit(nonce=2, ownership=None, credentials=None, data=Data(entries=(Unit(value=['test1', 'test2', 'test3'], type_ref=UnitTypeRef(alias='test_unit_type')),)))]\n",
      "GroupUnit(nonce=None, ownership=None, credentials=None, data=None)\n",
      "Creating new group unit from previous nonce.\n"
     ]
    },
    {
     "ename": "AttributeError",
     "evalue": "'NoneType' object has no attribute 'next_active_nonce'",
     "output_type": "error",
     "traceback": [
      "\u001b[0;31m---------------------------------------------------------------------------\u001b[0m",
      "\u001b[0;31mAttributeError\u001b[0m                            Traceback (most recent call last)",
      "Cell \u001b[0;32mIn[2], line 77\u001b[0m\n\u001b[1;32m     72\u001b[0m     \u001b[39mprint\u001b[39m(group\u001b[39m.\u001b[39m_group_unit_generator\u001b[39m.\u001b[39munit_generator\u001b[39m.\u001b[39mformat_unit(new_unit\u001b[39m.\u001b[39mdata\u001b[39m.\u001b[39mentries[\u001b[39m0\u001b[39m]))\n\u001b[1;32m     74\u001b[0m     \u001b[39mprint\u001b[39m(group\u001b[39m.\u001b[39mformat_group_unit(new_unit))\n\u001b[0;32m---> 77\u001b[0m main()\n",
      "Cell \u001b[0;32mIn[2], line 53\u001b[0m, in \u001b[0;36mmain\u001b[0;34m()\u001b[0m\n\u001b[1;32m     49\u001b[0m unit1 \u001b[39m=\u001b[39m group\u001b[39m.\u001b[39mcreate_group_unit()\n\u001b[1;32m     51\u001b[0m \u001b[39mprint\u001b[39m(unit1)\n\u001b[0;32m---> 53\u001b[0m group\u001b[39m.\u001b[39;49mcreate_group_unit()\n\u001b[1;32m     55\u001b[0m \u001b[39mprint\u001b[39m(group\u001b[39m.\u001b[39mget_nonce_tiers())\n\u001b[1;32m     57\u001b[0m \u001b[39mprint\u001b[39m(group\u001b[39m.\u001b[39mgroup_units)\n",
      "File \u001b[0;32m~/Documents/Forme/code/forme-groups/src/groups/group.py:225\u001b[0m, in \u001b[0;36mGroup.create_group_unit\u001b[0;34m(self, active_unit, ownership, credentials, data)\u001b[0m\n\u001b[1;32m    223\u001b[0m \u001b[39melif\u001b[39;00m active_unit \u001b[39mis\u001b[39;00m \u001b[39mNone\u001b[39;00m \u001b[39mand\u001b[39;00m \u001b[39mself\u001b[39m\u001b[39m.\u001b[39mactive_unit \u001b[39mis\u001b[39;00m \u001b[39mnot\u001b[39;00m \u001b[39mNone\u001b[39;00m:\n\u001b[1;32m    224\u001b[0m     \u001b[39mprint\u001b[39m(\u001b[39m\"\u001b[39m\u001b[39mCreating new group unit from previous nonce.\u001b[39m\u001b[39m\"\u001b[39m)\n\u001b[0;32m--> 225\u001b[0m     nonce \u001b[39m=\u001b[39m \u001b[39mself\u001b[39;49m\u001b[39m.\u001b[39;49mactive_unit\u001b[39m.\u001b[39;49mnonce\u001b[39m.\u001b[39;49mnext_active_nonce()\n\u001b[1;32m    227\u001b[0m \u001b[39melif\u001b[39;00m active_unit \u001b[39mis\u001b[39;00m \u001b[39mnot\u001b[39;00m \u001b[39mNone\u001b[39;00m \u001b[39mand\u001b[39;00m \u001b[39mself\u001b[39m\u001b[39m.\u001b[39mactive_unit \u001b[39mis\u001b[39;00m \u001b[39mNone\u001b[39;00m:\n\u001b[1;32m    228\u001b[0m     \u001b[39mprint\u001b[39m(\u001b[39m\"\u001b[39m\u001b[39mCreating new group unit from active nonce.\u001b[39m\u001b[39m\"\u001b[39m)\n",
      "\u001b[0;31mAttributeError\u001b[0m: 'NoneType' object has no attribute 'next_active_nonce'"
     ]
    }
   ],
   "source": [
    "import sys\n",
    "\n",
    "sys.path.append(\"/Users/j/Documents/Forme/code/forme-groups\")\n",
    "\n",
    "from src.groups.unit import Unit, UnitType, UnitTypeRef, UnitTypeFunction\n",
    "from src.groups.group import Group, Data\n",
    "\n",
    "\n",
    "def main():\n",
    "    # Create a default group\n",
    "    group = Group(\n",
    "        system_types_path=\"/Users/j/Documents/Forme/code/forme-groups/src/groups/system_types.json\"\n",
    "    )\n",
    "\n",
    "    # Create function to be used as a system function\n",
    "    def test_function(input_str):\n",
    "        if input_str.startswith(\"test<\") and input_str.endswith(\">\") and \"|\" in input_str:\n",
    "            return input_str[5:-1].split(\"|\")\n",
    "        elif input_str.startswith(\"test<\") and input_str.endswith(\">\"):\n",
    "            return input_str[5:-1]\n",
    "        else:\n",
    "            return input_str\n",
    "\n",
    "    # Create a new unit type\n",
    "    new_unit_type = UnitType(\n",
    "        aliases= (UnitTypeRef(\"test_unit_type\"),),\n",
    "        super_type=UnitTypeRef(\"str\"),\n",
    "        prefix=\"test<\",\n",
    "        suffix=\">\",\n",
    "        separator=\"|\",\n",
    "        sys_function=UnitTypeFunction(\n",
    "            object=test_function,\n",
    "            args=(),\n",
    "        )\n",
    "    )\n",
    "\n",
    "    # Add a unit type to the group\n",
    "    group._group_unit_generator.unit_generator.unit_type_pool.add_unit_type(\n",
    "        new_unit_type\n",
    "    )\n",
    "\n",
    "    # freeze the unit types\n",
    "    group.freeze_unit_types()\n",
    "\n",
    "    print(group._group_unit_generator.unit_generator.unit_type_pool.get_type_aliases())\n",
    "\n",
    "    print(group.group_units)\n",
    "    \n",
    "    unit1 = group.create_group_unit()\n",
    "\n",
    "    print(unit1)\n",
    "\n",
    "    group.create_group_unit()\n",
    "\n",
    "    print(group.get_nonce_tiers())\n",
    "\n",
    "    print(group.group_units)\n",
    "\n",
    "    data_unit: Unit = group._group_unit_generator.unit_generator.create_unit(\n",
    "        alias=\"test_unit_type\",\n",
    "        value=\"test<test1|test2|test3>\"\n",
    "    )\n",
    "\n",
    "    data_object = group._group_unit_generator.create_data(data=(data_unit,))\n",
    "\n",
    "    new_unit = group.create_group_unit(data=data_object)\n",
    "\n",
    "    print(new_unit)\n",
    "\n",
    "    print(new_unit.data.is_schema())\n",
    "\n",
    "    print(group._group_unit_generator.unit_generator.format_unit(new_unit.data.entries[0]))\n",
    "\n",
    "    print(group.format_group_unit(new_unit))\n",
    "    \n",
    "\n",
    "main()"
   ]
  }
 ],
 "metadata": {
  "kernelspec": {
   "display_name": "venv",
   "language": "python",
   "name": "python3"
  },
  "language_info": {
   "codemirror_mode": {
    "name": "ipython",
    "version": 3
   },
   "file_extension": ".py",
   "mimetype": "text/x-python",
   "name": "python",
   "nbconvert_exporter": "python",
   "pygments_lexer": "ipython3",
   "version": "3.11.0rc2"
  },
  "orig_nbformat": 4
 },
 "nbformat": 4,
 "nbformat_minor": 2
}
