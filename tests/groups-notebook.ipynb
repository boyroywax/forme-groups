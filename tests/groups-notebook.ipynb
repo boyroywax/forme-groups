{
 "cells": [
  {
   "cell_type": "code",
   "execution_count": 1,
   "metadata": {},
   "outputs": [
    {
     "ename": "TypeError",
     "evalue": "UnitTypePool.add_unit_type() takes 2 positional arguments but 3 were given",
     "output_type": "error",
     "traceback": [
      "\u001b[0;31m---------------------------------------------------------------------------\u001b[0m",
      "\u001b[0;31mTypeError\u001b[0m                                 Traceback (most recent call last)",
      "Cell \u001b[0;32mIn[1], line 34\u001b[0m\n\u001b[1;32m     28\u001b[0m     group\u001b[39m.\u001b[39mcreate_group_unit(active_unit \u001b[39m=\u001b[39m unit1)\n\u001b[1;32m     30\u001b[0m     \u001b[39mprint\u001b[39m(group\u001b[39m.\u001b[39mgroup_units)\n\u001b[0;32m---> 34\u001b[0m main()\n",
      "Cell \u001b[0;32mIn[1], line 15\u001b[0m, in \u001b[0;36mmain\u001b[0;34m()\u001b[0m\n\u001b[1;32m     10\u001b[0m group \u001b[39m=\u001b[39m Group(\n\u001b[1;32m     11\u001b[0m     system_types_path\u001b[39m=\u001b[39m\u001b[39m\"\u001b[39m\u001b[39m/Users/j/Documents/Forme/code/forme-groups/src/groups/system_types.json\u001b[39m\u001b[39m\"\u001b[39m\n\u001b[1;32m     12\u001b[0m )\n\u001b[1;32m     14\u001b[0m \u001b[39m# Add a unit type to the group\u001b[39;00m\n\u001b[0;32m---> 15\u001b[0m group\u001b[39m.\u001b[39;49m_group_unit_generator\u001b[39m.\u001b[39;49munit_generator\u001b[39m.\u001b[39;49munit_type_pool\u001b[39m.\u001b[39;49madd_unit_type(\n\u001b[1;32m     16\u001b[0m     \u001b[39m\"\u001b[39;49m\u001b[39mtest_unit_type\u001b[39;49m\u001b[39m\"\u001b[39;49m, {\u001b[39m\"\u001b[39;49m\u001b[39mtest_unit_type\u001b[39;49m\u001b[39m\"\u001b[39;49m: \u001b[39m\"\u001b[39;49m\u001b[39mtest_unit_type\u001b[39;49m\u001b[39m\"\u001b[39;49m}\n\u001b[1;32m     17\u001b[0m )\n\u001b[1;32m     19\u001b[0m \u001b[39m# freeze the unit types\u001b[39;00m\n\u001b[1;32m     20\u001b[0m group\u001b[39m.\u001b[39mfreeze_unit_types()\n",
      "\u001b[0;31mTypeError\u001b[0m: UnitTypePool.add_unit_type() takes 2 positional arguments but 3 were given"
     ]
    }
   ],
   "source": [
    "import sys\n",
    "\n",
    "sys.path.append(\"/Users/j/Documents/Forme/code/forme-groups\")\n",
    "\n",
    "from src.groups.unit import UnitType, UnitTypeRef\n",
    "from src.groups.group import Group\n",
    "\n",
    "\n",
    "def main():\n",
    "    # Create a default group\n",
    "    group = Group(\n",
    "        system_types_path=\"/Users/j/Documents/Forme/code/forme-groups/src/groups/system_types.json\"\n",
    "    )\n",
    "\n",
    "    # Create a new unit type\n",
    "    new_unit_type = UnitType(\n",
    "        aliases= (UnitTypeRef(\"test_unit_type\"),),\n",
    "        super_type=UnitTypeRef(\"str\"),\n",
    "        prefix=\"test<\",\n",
    "        suffix=\">\",\n",
    "        separator=\"|\",\n",
    "        sys_function=None\n",
    "    )\n",
    "\n",
    "    # Add a unit type to the group\n",
    "    group._group_unit_generator.unit_generator.unit_type_pool.add_unit_type(\n",
    "        new_unit_type\n",
    "    )\n",
    "\n",
    "    # freeze the unit types\n",
    "    group.freeze_unit_types()\n",
    "\n",
    "    print(group._group_unit_generator.unit_generator.unit_type_pool.get_type_aliases())\n",
    "\n",
    "    print(group.group_units)\n",
    "    \n",
    "    unit1 = group.create_group_unit()\n",
    "\n",
    "    group.create_group_unit(active_unit = unit1)\n",
    "\n",
    "    print(group.group_units)\n",
    "\n",
    "\n",
    "\n",
    "main()"
   ]
  }
 ],
 "metadata": {
  "kernelspec": {
   "display_name": "venv",
   "language": "python",
   "name": "python3"
  },
  "language_info": {
   "codemirror_mode": {
    "name": "ipython",
    "version": 3
   },
   "file_extension": ".py",
   "mimetype": "text/x-python",
   "name": "python",
   "nbconvert_exporter": "python",
   "pygments_lexer": "ipython3",
   "version": "3.11.0rc2"
  },
  "orig_nbformat": 4
 },
 "nbformat": 4,
 "nbformat_minor": 2
}
